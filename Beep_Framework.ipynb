{
 "cells": [
  {
   "cell_type": "code",
   "execution_count": null,
   "metadata": {},
   "outputs": [],
   "source": [
    "# importing speech recognition package from google api \n",
    "import speech_recognition as sr  \n",
    "import playsound # to play saved mp3 file \n",
    "from gtts import gTTS # google text to speech \n",
    "import os # to save/open files \n",
    "import wolframalpha # to calculate strings into formula \n",
    "from selenium import webdriver # to control browser operations \n",
    "import glob\n",
    "from stat import S_IREAD, S_IRGRP, S_IROTH, S_IWUSR\n",
    "import sys\n",
    "import requests\n",
    "import json\n",
    "import pyttsx3\n",
    "engine = pyttsx3.init()\n",
    "rate = engine.getProperty('rate')   # getting details of current speaking rate\n",
    "engine.setProperty('rate', 125)"
   ]
  },
  {
   "cell_type": "code",
   "execution_count": null,
   "metadata": {
    "scrolled": true
   },
   "outputs": [],
   "source": [
    "#delfiles()"
   ]
  },
  {
   "cell_type": "code",
   "execution_count": null,
   "metadata": {},
   "outputs": [],
   "source": [
    "num = 1\n",
    "def assistant_speaks(output): \n",
    "    global num \n",
    "  \n",
    "    # num to rename every audio file  \n",
    "    # with different name to remove ambiguity \n",
    "    num += 1\n",
    "    print(\"PerSon : \", output) \n",
    "  \n",
    "    toSpeak = gTTS(text = output, lang ='en', slow = False) \n",
    "    # saving the audio file given by google text to speech \n",
    "    file = str(num)+\".mp3\"\n",
    "    toSpeak.save(file) \n",
    "      \n",
    "    # playsound package is used to play the same file. \n",
    "    playsound.playsound(file, True)  \n",
    "    os.remove(file) \n",
    "  \n",
    "  \n",
    "  \n",
    "def get_audio(): \n",
    "    \n",
    "    rObject = sr.Recognizer() \n",
    "    audio = '' \n",
    "\n",
    "    with sr.Microphone() as source: \n",
    "        engine.say(\"Beeeep\") \n",
    "        print(\"Beeeep\")\n",
    "        engine.runAndWait()\n",
    "        \n",
    "          \n",
    "        # recording the audio using speech recognition \n",
    "        audio = rObject.listen(source, phrase_time_limit = 3)  \n",
    "    print(\"Stop.\") # limit 5 secs \n",
    "  \n",
    "    try: \n",
    "  \n",
    "        text = rObject.recognize_google(audio, language ='en-US') \n",
    "        print(\"You : \", text) \n",
    "        return text \n",
    "  \n",
    "    except: \n",
    "  \n",
    "        engine.say(\"Could not understand your audio, PLease try again !\") \n",
    "        print(\"Could not understand your audio, PLease try again !\") \n",
    "        engine.runAndWait()\n",
    "        return \"There\"\n",
    "  \n",
    "  \n"
   ]
  },
  {
   "cell_type": "code",
   "execution_count": null,
   "metadata": {},
   "outputs": [],
   "source": [
    "def sanity_test():\n",
    "    import shutil\n",
    "    import psutil\n",
    "    engine.say(\"Checking the disk RAM and CPU usage, hold on\")\n",
    "    print(\"Checking the disk RAM and CPU usage, hold on\")\n",
    "    engine.runAndWait()\n",
    "    path=\"C:\"\n",
    "    stat = shutil.disk_usage(path)\n",
    "    dsk = int(((int(stat.total/1024/1024/1024)-int(stat.free/1024/1024/1024))/int(stat.total/1024/1024/1024) ) * 100)\n",
    "    cppu = psutil.cpu_percent()\n",
    "    memor = psutil.virtual_memory().percent\n",
    "    if dsk < 70 and cppu < 70 and memor < 70:\n",
    "        print(\"Looks like All the resources are utilized less than 80%\")\n",
    "        engine.say(\"Looks like All the resources are utilized less than 80%\")\n",
    "        engine.runAndWait()\n",
    "    print(\"Do you want me to play the status report from your previous shift employee? \")\n",
    "    engine.say(\"Do you want me to play the status report from your previous shift employee? \")\n",
    "    engine.runAndWait()\n",
    "    text = get_audio().lower() \n",
    "    if \"no\" or \"na\" in text:\n",
    "        return 0\n",
    "    if \"yes\" or \"yea\" in text:\n",
    "        yess()"
   ]
  },
  {
   "cell_type": "code",
   "execution_count": null,
   "metadata": {},
   "outputs": [],
   "source": [
    "def yess():\n",
    "    print(\"There is a complaint from the customer who was having the issue \")\n",
    "    engine.say(\"There is a complaint from the customer who was having the issue \")\n",
    "    engine.runAndWait()\n",
    "    raise SystemExit()"
   ]
  },
  {
   "cell_type": "code",
   "execution_count": null,
   "metadata": {},
   "outputs": [],
   "source": [
    "def check_status():\n",
    "    URL=\"http://speb91.API_Server:8080/RestapiSystemManager/sysmgr/sysinfo\"\n",
    "    #print(\"Connecting to \" + URL)\n",
    "    print(\"Connecting to \" + URL)\n",
    "    engine.say(\"Connecting to \" + URL)\n",
    "    engine.runAndWait()\n",
    "    req = requests.get(url=URL)\n",
    "\n",
    "    json_data = req.json()\n",
    "    res = json_data[0]['exitStatus']\n",
    "    if res == 0:\n",
    "        out = json_data[0]['commandOutput']\n",
    "        print(\"System Memory Info:\\n\" + out)\n",
    "        engine.say(out)\n",
    "        engine.runAndWait()"
   ]
  },
  {
   "cell_type": "code",
   "execution_count": null,
   "metadata": {},
   "outputs": [],
   "source": [
    "def kannan_server():\n",
    "    URL=\"http://speb91.API_Server:8080/RestapiSystemManager/sysmgr/sysinfo\"\n",
    "    print(\"Connecting to \" + URL)\n",
    "    engine.say(\"Connecting to \" + URL)\n",
    "    engine.runAndWait()\n",
    "    print(\"Getting System Memory Info\")\n",
    "    engine.say(\"Getting System Memory Info\")\n",
    "    engine.runAndWait()\n",
    "    req = requests.get(url=URL)\n",
    "\n",
    "    json_data = req.json()\n",
    "    res = json_data[0]['exitStatus']\n",
    "    if res == 0:\n",
    "        out = json_data[0]['commandOutput']\n",
    "        print(\"System Memory Info:\\n\" + out)\n",
    "        engine.say(out)\n",
    "        engine.runAndWait()"
   ]
  },
  {
   "cell_type": "code",
   "execution_count": null,
   "metadata": {},
   "outputs": [],
   "source": []
  },
  {
   "cell_type": "code",
   "execution_count": 85,
   "metadata": {
    "scrolled": false
   },
   "outputs": [
    {
     "name": "stdout",
     "output_type": "stream",
     "text": [
      "Beeeep\n",
      "Stop.\n",
      "You :  TJ\n",
      "Hello, TJ.\n",
      "What can i do for you?\n",
      "Beeeep\n",
      "Stop.\n",
      "You :  server\n",
      "Okie, checking the status of the servers. Hold on\n"
     ]
    },
    {
     "ename": "NameError",
     "evalue": "name 'Remote_server' is not defined",
     "output_type": "error",
     "traceback": [
      "\u001b[1;31m---------------------------------------------------------------------------\u001b[0m",
      "\u001b[1;31mNameError\u001b[0m                                 Traceback (most recent call last)",
      "\u001b[1;32m<ipython-input-85-f4356e529e66>\u001b[0m in \u001b[0;36m<module>\u001b[1;34m\u001b[0m\n\u001b[0;32m     33\u001b[0m             \u001b[0mengine\u001b[0m\u001b[1;33m.\u001b[0m\u001b[0msay\u001b[0m\u001b[1;33m(\u001b[0m\u001b[1;34m\"Okie, checking the status of the servers. Hold on\"\u001b[0m\u001b[1;33m)\u001b[0m\u001b[1;33m\u001b[0m\u001b[1;33m\u001b[0m\u001b[0m\n\u001b[0;32m     34\u001b[0m             \u001b[0mengine\u001b[0m\u001b[1;33m.\u001b[0m\u001b[0mrunAndWait\u001b[0m\u001b[1;33m(\u001b[0m\u001b[1;33m)\u001b[0m\u001b[1;33m\u001b[0m\u001b[1;33m\u001b[0m\u001b[0m\n\u001b[1;32m---> 35\u001b[1;33m             \u001b[0mkannan_server\u001b[0m\u001b[1;33m(\u001b[0m\u001b[1;33m)\u001b[0m\u001b[1;33m\u001b[0m\u001b[1;33m\u001b[0m\u001b[0m\n\u001b[0m\u001b[0;32m     36\u001b[0m \u001b[1;33m\u001b[0m\u001b[0m\n\u001b[0;32m     37\u001b[0m \u001b[1;33m\u001b[0m\u001b[0m\n",
      "\u001b[1;31mNameError\u001b[0m: name 'kannan_server' is not defined"
     ]
    }
   ],
   "source": [
    "# Driver Code \n",
    "if __name__ == \"__main__\": \n",
    "    engine.say(\"Hello There, Please state your name after the beep sound\")\n",
    "    engine.runAndWait()\n",
    "    name ='Human'\n",
    "    name = get_audio() \n",
    "    print(\"Hello, \" + str(name) + '.')\n",
    "    engine.say(\"Hello, \" + str(name) + '.') \n",
    "    engine.runAndWait()\n",
    "      \n",
    "    while(1): \n",
    "        print(\"What can i do for you?\") \n",
    "        engine.say(\"What can i do for you?\") \n",
    "        engine.runAndWait()\n",
    "        text = get_audio().lower() \n",
    "  \n",
    "        if text == \"There\": \n",
    "            continue\n",
    "          \n",
    "        if \"exit\" in str(text) or \"bye\" in str(text) or \"sleep\" in str(text): \n",
    "            print(\"Ok bye, \"+ str(name)+'.')\n",
    "            engine.say(\"Ok bye, \"+ str(name)+'.') \n",
    "            engine.runAndWait()\n",
    "            break\n",
    "        \n",
    "        if \"sanity\" in str(text) or \"run\" in str(text):\n",
    "            print(\"Running sanity tests, Please hold on\")\n",
    "            engine.say(\"Running sanity tests, Please hold on\")\n",
    "            engine.runAndWait()\n",
    "            sanity_test()\n",
    "        if \"check\" in str(text) or \"server\" in str(text) or \"servers\" in str(text):\n",
    "            print(\"Okie, checking the status of the servers. Hold on\")\n",
    "            engine.say(\"Okie, checking the status of the servers. Hold on\")\n",
    "            engine.runAndWait()\n",
    "            kannan_server()\n",
    "        \n",
    "            \n",
    "  \n",
    "        # calling process text to process the query \n",
    "        #process_text(text) "
   ]
  },
  {
   "cell_type": "markdown",
   "metadata": {},
   "source": [
    "###### "
   ]
  },
  {
   "cell_type": "code",
   "execution_count": null,
   "metadata": {},
   "outputs": [],
   "source": []
  }
 ],
 "metadata": {
  "kernelspec": {
   "display_name": "Python 3",
   "language": "python",
   "name": "python3"
  },
  "language_info": {
   "codemirror_mode": {
    "name": "ipython",
    "version": 3
   },
   "file_extension": ".py",
   "mimetype": "text/x-python",
   "name": "python",
   "nbconvert_exporter": "python",
   "pygments_lexer": "ipython3",
   "version": "3.7.4"
  }
 },
 "nbformat": 4,
 "nbformat_minor": 2
}
